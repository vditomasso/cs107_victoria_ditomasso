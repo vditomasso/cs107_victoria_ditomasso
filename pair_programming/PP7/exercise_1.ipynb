{
 "cells": [
  {
   "cell_type": "markdown",
   "metadata": {
    "cell_id": "00001-d27afb28-c5fa-4910-86db-64df9ffb1ce6",
    "tags": []
   },
   "source": [
    "Coder: Pawel Nawrocki, Diego Zertuche, Victoria DiTomasso,Matheus C. Fernandes\n",
    "Sharer: Matheus C. Fernandes\n",
    "# Pair Programming 7\n",
    "\n",
    "## Exercise 1 \n",
    "### Part A\n",
    "\n",
    "$f(x,y)=\n",
    "\\begin{bmatrix}\n",
    "x^2+y^2\\\\\n",
    "e^{x+y}\n",
    "\\end{bmatrix}$\n",
    "\n",
    "$J=\n",
    "\\begin{bmatrix}\n",
    "\\partial f_1/\\partial x & \\partial f_1/\\partial y\\\\\n",
    "\\partial f_2/\\partial x & \\partial f_2/\\partial y\\\\\n",
    "\\end{bmatrix}$\n",
    "\n",
    "$J=\n",
    "\\begin{bmatrix}\n",
    "2x & 2y\\\\\n",
    "e^{x+y}&e^{x+y}\n",
    "\\end{bmatrix}$\n",
    "\n",
    "$J=\n",
    "\\begin{bmatrix}\n",
    "2 & 2\\\\\n",
    "e^2&e^2\n",
    "\\end{bmatrix}$\n",
    "\n",
    "### Part B\n",
    "(i)\n",
    "$Jp=\n",
    "\\begin{bmatrix}\n",
    "2 & 2\\\\\n",
    "e^2&e^2\n",
    "\\end{bmatrix}\n",
    "\\begin{bmatrix}\n",
    "1\\\\\n",
    "-2\n",
    "\\end{bmatrix}=\\begin{bmatrix}\n",
    "-2\\\\\n",
    "-e^2\n",
    "\\end{bmatrix}$\n",
    "\n",
    "(ii)\n",
    "$Jp=\n",
    "\\begin{bmatrix}\n",
    "2 & 2\\\\\n",
    "e^2&e^2\n",
    "\\end{bmatrix}\n",
    "\\begin{bmatrix}\n",
    "1\\\\\n",
    "1\n",
    "\\end{bmatrix}=\\begin{bmatrix}\n",
    "4\\\\\n",
    "2e^2\n",
    "\\end{bmatrix}$\n",
    "\n",
    "\n",
    "### Part C\n",
    "\n",
    "| trace | elem | val | elem der | $\\nabla_x$| $\\nabla_y$ |\n",
    "|:-----:|:----:|:---:|:--------:|:---------:|:----------:|\n",
    "| $v_1$ | $x$  | 1   | $\\dot{x}$|   1       |     1      |\n",
    "| $v_2$ | $y$  | 1   | $\\dot{y}$|   -2      |     1      |\n",
    "| $v_3$ | $v_1^2$ |1 | $2 v_1\\dot{v_1}$| 2  |     2      |\n",
    "| $v_4$ | $v_2^2$ | 1| $2 v_2\\dot{v_2}$|-4  |     2      |\n",
    "| $v_5, f_1$ | $v_3+v_4$|2| $\\dot{v_3}+\\dot{v_4}$ | -2 | 4 |\n",
    "| $v_6$ | $v_1+v_2$|2| $\\dot{v}_1+\\dot{v}_2$| -1 | 2 |\n",
    "| $v_7,f_2$ | $e^{v_6}$|$e^2$ |$\\dot{v}_6 e^{v_6}$ | $-e^2$| $2e^2$|\n"
   ]
  },
  {
   "cell_type": "code",
   "execution_count": null,
   "metadata": {
    "cell_id": "00002-445e5929-f90a-42c6-8d46-8fcfb27539a1",
    "tags": []
   },
   "outputs": [],
   "source": []
  }
 ],
 "metadata": {
  "deepnote_execution_queue": [],
  "deepnote_notebook_id": "c1155d01-6fba-4c85-81c6-af51a61fc119",
  "kernelspec": {
   "display_name": "Python 3",
   "language": "python",
   "name": "python3"
  },
  "language_info": {
   "codemirror_mode": {
    "name": "ipython",
    "version": 3
   },
   "file_extension": ".py",
   "mimetype": "text/x-python",
   "name": "python",
   "nbconvert_exporter": "python",
   "pygments_lexer": "ipython3",
   "version": "3.8.3"
  }
 },
 "nbformat": 4,
 "nbformat_minor": 2
}
